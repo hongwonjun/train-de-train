{
 "cells": [
  {
   "cell_type": "code",
   "execution_count": null,
   "metadata": {},
   "outputs": [],
   "source": [
    "import pandas as pd \n",
    "import numpy as np\n",
    "import glob\n",
    "import json\n",
    "import xlrd\n",
    "import datetime\n",
    "import plotly.express as px\n",
    "import plotly.graph_objects as go"
   ]
  },
  {
   "cell_type": "code",
   "execution_count": null,
   "metadata": {},
   "outputs": [],
   "source": [
    "station_list = [\n",
    "    '문산','파주','월롱','금촌','금릉','운정',\n",
    "    '야당','탄현','일산','풍산','백마','곡산',\n",
    "    '대곡','능곡','행신','강매','화전','수색',\n",
    "    '디지털미디어시티','가좌','홍대입구','서강대','공덕',\n",
    "    '효창공원앞','용산','이촌','서빙고','한남',\n",
    "    '옥수','응봉','왕십리','청량리','회기',\n",
    "    '중랑','상봉','망우','양원','구리',\n",
    "    '도농','양정','덕소','도심','팔당',\n",
    "    '운길산','양수','신원','국수','아신',\n",
    "    '오빈','양평','원덕','용문','지평'\n",
    "]\n",
    "\n",
    "convert_dict = {\n",
    "    '디엠시':'디지털미디어시티',\n",
    "    '홍대입':'홍대입구',\n",
    "    '효창공':'효창공원앞',\n",
    "    '1양원':'양원',\n",
    "    '1양정':'양정'\n",
    "}\n",
    "\n",
    "train_list_dict = {\n",
    "    6: {'5010','5014','5016','5012','5018','5020','5702'},\n",
    "    7: {'5022','5024','5026','5704','5302','5028','5706','5030'},\n",
    "    8: {'5032','5034','5232','5038','5040','5036'},\n",
    "    9: {'5044','5046','5042','5048','5050'}\n",
    "}"
   ]
  },
  {
   "cell_type": "code",
   "execution_count": null,
   "metadata": {},
   "outputs": [],
   "source": [
    "# 샘플 데이터를 사용합니다. 직접 크롤링 한 경우 path 를 변경합니다.\n",
    "path = \"./sampledata/*\"\n",
    "file_list = glob.glob(path)\n",
    "file_list.sort()"
   ]
  },
  {
   "cell_type": "code",
   "execution_count": null,
   "metadata": {},
   "outputs": [],
   "source": [
    "# 데이터를 로드합니다.\n",
    "# 같은 시간 축에 표시하게 하기 위해 같은 날짜로 고정하니 필요하면 그 부분을 수정해야 합니다.\n",
    "\n",
    "train_dict = dict()\n",
    "\n",
    "for each_file in file_list:\n",
    "    # 주말 데이터를 제거합니다. 필요시 코드를 제거합니다.\n",
    "    if each_file.split('-')[1:3] in [['09','12'],['09','13'],['19','20']]:\n",
    "        continue\n",
    "    with open(each_file) as json_file:\n",
    "        json_data = json.load(json_file)\n",
    "        for each in json_data:\n",
    "            if each['trainNo'] in ['5172','5168','5160','5156']: # Crawling Error\n",
    "                continue\n",
    "            if each['trainNo'][0] == '2': # 경의선 데이터 제외\n",
    "                continue\n",
    "            if each['updnLine'] == \"0\": # 상행선 데이터 제외\n",
    "                continue\n",
    "\n",
    "            if each['trainNo'] not in train_dict:\n",
    "                train_dict[each['trainNo']] = dict()\n",
    "\n",
    "            train_date, train_time = each['recptnDt'].split(' ', 1)\n",
    "\n",
    "            if train_date not in train_dict[each['trainNo']]:\n",
    "                train_dict[each['trainNo']][train_date] = dict()\n",
    "\n",
    "            train_dict[each['trainNo']][train_date][each['statnNm']] = datetime.datetime.strptime('2020-09-20 ' + train_time, '%Y-%m-%d %H:%M:%S')"
   ]
  },
  {
   "cell_type": "code",
   "execution_count": null,
   "metadata": {},
   "outputs": [],
   "source": [
    "# Load Time table (계획된 시간표 로드)\n",
    "xlsx = pd.read_excel('./timeline.xlsx', sheet_name=3)\n",
    "xlsx.columns = xlsx.iloc[2]\n",
    "xlsx = xlsx.iloc[3:107,1:]"
   ]
  },
  {
   "cell_type": "code",
   "execution_count": null,
   "metadata": {},
   "outputs": [],
   "source": [
    "# Input: 열차번호\n",
    "# Output: 열차의 시간표 데이터 dataframe\n",
    "def get_timetable(apiTrainNo):\n",
    "    dict_traintime = dict()\n",
    "    trainNo = 'K' + str(int(apiTrainNo)-1)\n",
    "    xlsx_traintime = xlsx.loc[:,['열차번호',trainNo]]\n",
    "\n",
    "    for idx in xlsx_traintime.index:\n",
    "        if idx % 2 == 0:\n",
    "            continue\n",
    "\n",
    "        time_arrive = xlsx_traintime._get_value(idx,trainNo).strip() if type(xlsx_traintime._get_value(idx,trainNo)) == type('a') else xlsx_traintime._get_value(idx,trainNo)\n",
    "        time_depart = xlsx_traintime._get_value(idx+1,trainNo).strip() if type(xlsx_traintime._get_value(idx+1,trainNo)) == type('a') else xlsx_traintime._get_value(idx+1,trainNo)\n",
    "\n",
    "        station_value = xlsx_traintime._get_value(idx,'열차번호')\n",
    "        station_name = convert_dict[station_value] if station_value in convert_dict else station_value\n",
    "\n",
    "        if (not time_arrive or pd.isna(time_arrive)) and (not time_depart or pd.isna(time_depart)):\n",
    "            dict_traintime[station_name] = None\n",
    "            continue\n",
    "\n",
    "        train_time = time_arrive if type(time_depart) != datetime.time else time_depart\n",
    "        dict_traintime[station_name] = datetime.datetime.combine(datetime.date(2020, 9, 20), train_time)\n",
    "\n",
    "    output = pd.DataFrame.from_dict(dict_traintime, orient='index', columns=['timetable'])\n",
    "    return output"
   ]
  },
  {
   "cell_type": "code",
   "execution_count": null,
   "metadata": {},
   "outputs": [],
   "source": [
    "# Input: 열차번호\n",
    "# Output: 실제 데이터와 시간표 데이터가 합쳐진 dataframe\n",
    "def get_full_table(apiTrainNo):\n",
    "    real_time = pd.DataFrame(train_dict[apiTrainNo])\n",
    "    plan_time = get_timetable(apiTrainNo)\n",
    "    merge_time = pd.concat([plan_time, real_time], axis=1)\n",
    "    return merge_time"
   ]
  },
  {
   "cell_type": "code",
   "execution_count": null,
   "metadata": {},
   "outputs": [],
   "source": [
    "# Input: 열차번호\n",
    "# Output: 시간표 데이터와 차이\n",
    "def get_diff(apiTrainNo):\n",
    "    merge_time = get_full_table(apiTrainNo)\n",
    "    \n",
    "    for idx in merge_time.columns:\n",
    "        if idx == 'timetable':\n",
    "            continue\n",
    "        merge_time[idx] = (merge_time['timetable'] - merge_time[idx]).dt.total_seconds()\n",
    "    merge_time = merge_time.drop(labels='timetable', axis=1)\n",
    "    return merge_time"
   ]
  },
  {
   "cell_type": "code",
   "execution_count": null,
   "metadata": {},
   "outputs": [],
   "source": [
    "# Input: 열차번호\n",
    "# 열차의 도착시간을 선 그래프로 시각화\n",
    "def show_single(apiTrainNo):\n",
    "    merge_time = get_full_table(apiTrainNo)\n",
    "    \n",
    "    fig = px.line(merge_time, x=merge_time.columns, y=merge_time.index)\n",
    "    fig['layout']['yaxis']['autorange'] = \"reversed\"\n",
    "    fig.show()"
   ]
  },
  {
   "cell_type": "code",
   "execution_count": null,
   "metadata": {},
   "outputs": [],
   "source": [
    "# Input: 열차번호\n",
    "# 열차의 계획표와 실제 도착시간의 차이를 막대 그래프로 시각화\n",
    "def show_diff(apiTrainNo):\n",
    "    merge_time = get_diff(apiTrainNo)\n",
    "   \n",
    "    fig = go.Figure()\n",
    "    for idx in merge_time.columns:\n",
    "        fig.add_trace(go.Bar(x=merge_time.index, y=merge_time[idx],\n",
    "                name=idx))\n",
    "    fig.show()"
   ]
  },
  {
   "cell_type": "code",
   "execution_count": null,
   "metadata": {},
   "outputs": [],
   "source": [
    "# Input: 열차번호\n",
    "# 열차의 계획표와 실제 도착시간의 차이를 Box Plot 으로 시각화\n",
    "def show_box(apiTrainNo):\n",
    "    df_diff = get_diff(apiTrainNo)\n",
    "    fig = px.box(df_diff, x=df_diff.index,  y=df_diff.columns)\n",
    "    fig.show()"
   ]
  },
  {
   "cell_type": "code",
   "execution_count": null,
   "metadata": {},
   "outputs": [],
   "source": [
    "# Input: 열차번호\n",
    "# Output: 역간 이동 시간의 계획과의 차이 Dataframe\n",
    "def get_diff_time(apiTrainNo):\n",
    "    df = get_diff_station(apiTrainNo)\n",
    "    df = df.fillna(0)\n",
    "\n",
    "    for idx in df.columns:\n",
    "        if idx == 'timetable':\n",
    "            continue\n",
    "        df.loc[df[idx] == 0, idx] = df.timetable\n",
    "        df[idx] = (df['timetable'] - df[idx])\n",
    "\n",
    "    df = df.drop(labels='timetable', axis=1)\n",
    "    return df"
   ]
  },
  {
   "cell_type": "code",
   "execution_count": null,
   "metadata": {},
   "outputs": [],
   "source": [
    "# Input: 열차번호\n",
    "# Output: 역간 이동 시간 Dataframe\n",
    "def get_diff_station(apiTrainNo):\n",
    "    merge_time = get_full_table(apiTrainNo)\n",
    "    \n",
    "    merge_time = merge_time.ffill()\n",
    "    merge_time = merge_time.diff()\n",
    "\n",
    "    for column in merge_time.columns:\n",
    "        merge_time[column] = merge_time[column].dt.total_seconds()\n",
    "    merge_time = merge_time.clip(lower=0)\n",
    "    \n",
    "    return merge_time"
   ]
  },
  {
   "cell_type": "code",
   "execution_count": null,
   "metadata": {},
   "outputs": [],
   "source": [
    "# Input: 열차번호\n",
    "# 역간 이동 시간의 기존 시간표와 차이 시각화\n",
    "def show_diff_time(apiTrainNo):\n",
    "    df = get_diff_time(apiTrainNo)\n",
    "\n",
    "    fig = go.Figure()\n",
    "    for idx in df.columns:\n",
    "        fig.add_trace(go.Bar(x=df.index, y=df[idx], base=0, name=idx))\n",
    "    fig.show()"
   ]
  },
  {
   "cell_type": "code",
   "execution_count": null,
   "metadata": {},
   "outputs": [],
   "source": [
    "show_single('5024')"
   ]
  },
  {
   "cell_type": "code",
   "execution_count": null,
   "metadata": {
    "scrolled": true
   },
   "outputs": [],
   "source": [
    "show_diff('5302')"
   ]
  },
  {
   "cell_type": "code",
   "execution_count": null,
   "metadata": {
    "scrolled": true
   },
   "outputs": [],
   "source": [
    "show_box('5034')"
   ]
  },
  {
   "cell_type": "code",
   "execution_count": null,
   "metadata": {},
   "outputs": [],
   "source": []
  }
 ],
 "metadata": {
  "kernelspec": {
   "display_name": "subway",
   "language": "python",
   "name": "subway"
  },
  "language_info": {
   "codemirror_mode": {
    "name": "ipython",
    "version": 3
   },
   "file_extension": ".py",
   "mimetype": "text/x-python",
   "name": "python",
   "nbconvert_exporter": "python",
   "pygments_lexer": "ipython3",
   "version": "3.6.7"
  }
 },
 "nbformat": 4,
 "nbformat_minor": 2
}
